{
 "cells": [
  {
   "cell_type": "code",
   "execution_count": 28,
   "metadata": {},
   "outputs": [],
   "source": [
    "import cv2\n",
    "import numpy as np\n",
    "import json\n",
    "from matplotlib import pyplot as plt\n"
   ]
  },
  {
   "cell_type": "code",
   "execution_count": 29,
   "metadata": {},
   "outputs": [],
   "source": [
    "scale = 1015 / 512"
   ]
  },
  {
   "cell_type": "code",
   "execution_count": 30,
   "metadata": {},
   "outputs": [],
   "source": [
    "image_path_5 = \"/media/arush/New Volume/Work/Giloma_Kaggle/Data/Glioma_MDC_2025_training/Glioma_MDC_2025_training/training0001.jpg\"\n",
    "json_path_5 = \"/media/arush/New Volume/Work/Giloma_Kaggle/Data/Glioma_MDC_2025_training/Glioma_MDC_2025_training/training0001.json\" \n",
    "output_path = \"/media/arush/New Volume/Work/Giloma_Kaggle/Code/extracted_region_padded.png\""
   ]
  },
  {
   "cell_type": "code",
   "execution_count": 31,
   "metadata": {},
   "outputs": [
    {
     "name": "stdout",
     "output_type": "stream",
     "text": [
      "[[262.3829787234043, 187.56028368794324], [269.4751773049645, 187.56028368794324], [274.43971631205676, 189.68794326241132], [275.8581560283688, 194.65248226950354], [276.5673758865248, 200.32624113475177], [273.7304964539007, 208.12765957446808], [269.4751773049645, 211.6737588652482], [260.25531914893617, 211.6737588652482], [252.45390070921985, 206.70921985815602], [251.74468085106383, 197.48936170212764]]\n",
      "(512, 512, 3)\n"
     ]
    }
   ],
   "source": [
    "with open(json_path_5, \"r\") as f:\n",
    "    data = json.load(f)\n",
    "\n",
    "print(data[\"shapes\"][0][\"points\"], )\n",
    "type(data[\"shapes\"][0][\"points\"])\n",
    "\n",
    "img = cv2.imread(image_path_5)\n",
    "print(img.shape)"
   ]
  },
  {
   "cell_type": "code",
   "execution_count": 38,
   "metadata": {},
   "outputs": [],
   "source": [
    "image_path = \"/media/arush/New Volume/Work/Giloma_Kaggle/Data/upsampled/training/training0001.jpg\"\n",
    "json_path = \"/media/arush/New Volume/Work/Giloma_Kaggle/Data/upsampled/training/training0001.json\"\n",
    "output_path = \"/media/arush/New Volume/Work/Giloma_Kaggle/Code/extracted_region_padded.png\""
   ]
  },
  {
   "cell_type": "code",
   "execution_count": 39,
   "metadata": {},
   "outputs": [
    {
     "name": "stdout",
     "output_type": "stream",
     "text": [
      "[[262.3829787234043, 187.56028368794324], [269.4751773049645, 187.56028368794324], [274.43971631205676, 189.68794326241132], [275.8581560283688, 194.65248226950354], [276.5673758865248, 200.32624113475177], [273.7304964539007, 208.12765957446808], [269.4751773049645, 211.6737588652482], [260.25531914893617, 211.6737588652482], [252.45390070921985, 206.70921985815602], [251.74468085106383, 197.48936170212764]]\n",
      "[[132.35476365160886, 94.61168989973098], [135.93230618733185, 94.61168989973098], [138.436585962338, 95.68495266044788], [139.1520944694826, 98.189232435454], [139.5098487230549, 101.05126646403242], [138.07883170876568, 104.98656325332774], [135.93230618733185, 106.77533452118924], [131.28150089089195, 106.77533452118924], [127.34620410159661, 104.27105474618314], [126.98844984802432, 99.6202494497432]]\n",
      "(1015, 1015, 3)\n"
     ]
    }
   ],
   "source": [
    "with open(json_path, \"r\") as f:\n",
    "    data = json.load(f)\n",
    "\n",
    "print(data[\"shapes\"][0][\"points\"])\n",
    "type(data[\"shapes\"][0][\"points\"])\n",
    "\n",
    "# Divide all elements by 2\n",
    "data[\"shapes\"][0][\"points\"] = [[x/scale, y/scale] for x, y in data[\"shapes\"][0][\"points\"]]\n",
    "\n",
    "\n",
    "print(data[\"shapes\"][0][\"points\"])\n",
    "img = cv2.imread(image_path)\n",
    "print(img.shape)"
   ]
  },
  {
   "cell_type": "code",
   "execution_count": 41,
   "metadata": {},
   "outputs": [
    {
     "name": "stdout",
     "output_type": "stream",
     "text": [
      "251 187 277 212\n"
     ]
    },
    {
     "data": {
      "image/png": "[encoded data removed]",
      "text/plain": [
       "<Figure size 640x480 with 1 Axes>"
      ]
     },
     "metadata": {},
     "output_type": "display_data"
    }
   ],
   "source": [
    "# Load the image\n",
    "image = cv2.imread(image_path)\n",
    "\n",
    "# Load and parse the JSON file\n",
    "with open(json_path, \"r\") as f:\n",
    "    data = json.load(f)\n",
    "\n",
    "# Extract polygon points\n",
    "polygon_points = data[\"shapes\"][0][\"points\"]\n",
    "polygon_points = np.array(polygon_points, dtype=np.int32)\n",
    "\n",
    "# Find the bounding rectangle around the polygon\n",
    "x, y, w, h = cv2.boundingRect(polygon_points)\n",
    "print(x, y, x+w, y+h)\n",
    "\n",
    "# Crop the image to the bounding rectangle\n",
    "cropped_image = image[y:y+h, x:x+w]\n",
    "cropped_image_2 = image[x:x+w,y:y+h]\n",
    "\n",
    "# Display the cropped image\n",
    "plt.imshow(cv2.cvtColor(cropped_image, cv2.COLOR_BGR2RGB))\n",
    "plt.show()\n",
    "# plt.imshow(cv2.cvtColor(cropped_image_2, cv2.COLOR_BGR2RGB))\n",
    "\n",
    "plt.show()"
   ]
  }
 ],
 "metadata": {
  "kernelspec": {
   "display_name": ".conda",
   "language": "python",
   "name": "python3"
  },
  "language_info": {
   "codemirror_mode": {
    "name": "ipython",
    "version": 3
   },
   "file_extension": ".py",
   "mimetype": "text/x-python",
   "name": "python",
   "nbconvert_exporter": "python",
   "pygments_lexer": "ipython3",
   "version": "3.11.11"
  }
 },
 "nbformat": 4,
 "nbformat_minor": 2
}
