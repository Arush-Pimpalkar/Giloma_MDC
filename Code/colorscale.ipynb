{
 "cells": [
  {
   "cell_type": "code",
   "execution_count": null,
   "metadata": {},
   "outputs": [],
   "source": [
    "import os\n",
    "from PIL import Image\n"
   ]
  },
  {
   "cell_type": "code",
   "execution_count": null,
   "metadata": {},
   "outputs": [],
   "source": [
    "# Input and output folders\n",
    "input_folder = \"input_images\"\n",
    "output_folder = \"output_images\""
   ]
  },
  {
   "cell_type": "code",
   "execution_count": null,
   "metadata": {},
   "outputs": [],
   "source": [
    "\n",
    "# Define function to apply color scales\n",
    "def apply_color_scale(image, scale):\n",
    "    pixels = image.load()\n",
    "    for i in range(image.width):\n",
    "        for j in range(image.height):\n",
    "            r, g, b = pixels[i, j]\n",
    "            if scale == \"red\":\n",
    "                pixels[i, j] = (r, 0, 0)\n",
    "            elif scale == \"green\":\n",
    "                pixels[i, j] = (0, g, 0)\n",
    "            elif scale == \"blue\":\n",
    "                pixels[i, j] = (0, 0, b)\n",
    "    return image\n",
    "\n",
    "\n",
    "# Create output folders for each scale\n",
    "os.makedirs(output_folder, exist_ok=True)\n",
    "scales = [\"greyscale\", \"red\", \"green\", \"blue\"]\n",
    "for scale in scales:\n",
    "    os.makedirs(os.path.join(output_folder, scale), exist_ok=True)\n",
    "\n",
    "# Process each image in the input folder\n",
    "for filename in os.listdir(input_folder):\n",
    "    if filename.lower().endswith((\".png\", \".jpg\", \".jpeg\", \".bmp\", \".tiff\")):\n",
    "        file_path = os.path.join(input_folder, filename)\n",
    "        image = Image.open(file_path).convert(\"RGB\")\n",
    "\n",
    "        # Apply greyscale\n",
    "        greyscale_image = image.convert(\"L\")\n",
    "        greyscale_image.save(os.path.join(output_folder, \"greyscale\", filename))\n",
    "\n",
    "        # Apply redscale, greenscale, and bluescale\n",
    "        for scale in [\"red\", \"green\", \"blue\"]:\n",
    "            colored_image = apply_color_scale(image.copy(), scale)\n",
    "            colored_image.save(os.path.join(output_folder, scale, filename))\n",
    "\n",
    "print(\"Processing complete. Check the output_images folder for results.\")\n"
   ]
  }
 ],
 "metadata": {
  "kernelspec": {
   "display_name": ".conda",
   "language": "python",
   "name": "python3"
  },
  "language_info": {
   "name": "python",
   "version": "3.11.11"
  }
 },
 "nbformat": 4,
 "nbformat_minor": 2
}
