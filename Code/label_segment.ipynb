{
 "cells": [
  {
   "cell_type": "code",
   "execution_count": 4,
   "metadata": {},
   "outputs": [],
   "source": [
    "import cv2\n",
    "import numpy as np\n",
    "import json"
   ]
  },
  {
   "cell_type": "code",
   "execution_count": 5,
   "metadata": {},
   "outputs": [],
   "source": [
    "image_path = \"/media/arush/New Volume/Work/Giloma_Kaggle/Data/Glioma_MDC_2025_training/Glioma_MDC_2025_training/training0001.jpg\"\n",
    "json_path = \"/media/arush/New Volume/Work/Giloma_Kaggle/Data/Glioma_MDC_2025_training/Glioma_MDC_2025_training/training0001.json\" \n",
    "output_path = \"/media/arush/New Volume/Work/Giloma_Kaggle/Code/extracted_region.png\""
   ]
  },
  {
   "cell_type": "code",
   "execution_count": 6,
   "metadata": {},
   "outputs": [
    {
     "name": "stdout",
     "output_type": "stream",
     "text": [
      "Image cropped and saved as /media/arush/New Volume/Work/Giloma_Kaggle/Code/extracted_region.png\n"
     ]
    }
   ],
   "source": [
    "# Load the image\n",
    "image = cv2.imread(image_path)\n",
    "\n",
    "# Load and parse the JSON file\n",
    "with open(json_path, \"r\") as f:\n",
    "    data = json.load(f)\n",
    "# Extract polygon points\n",
    "polygon_points = data[\"shapes\"][0][\"points\"]\n",
    "polygon_points = np.array(polygon_points, dtype=np.int32)\n",
    "\n",
    "# Find the bounding rectangle around the polygon\n",
    "x, y, w, h = cv2.boundingRect(polygon_points)\n",
    "\n",
    "# Crop the image to the bounding rectangle\n",
    "cropped_image = image[y:y+h, x:x+w]\n",
    "\n",
    "# Save or display the cropped image\n",
    "cv2.imwrite(output_path, cropped_image)\n",
    "print(f\"Image cropped and saved as {output_path}\")"
   ]
  }
 ],
 "metadata": {
  "kernelspec": {
   "display_name": "Python 3",
   "language": "python",
   "name": "python3"
  },
  "language_info": {
   "codemirror_mode": {
    "name": "ipython",
    "version": 3
   },
   "file_extension": ".py",
   "mimetype": "text/x-python",
   "name": "python",
   "nbconvert_exporter": "python",
   "pygments_lexer": "ipython3",
   "version": "3.11.11"
  }
 },
 "nbformat": 4,
 "nbformat_minor": 2
}
