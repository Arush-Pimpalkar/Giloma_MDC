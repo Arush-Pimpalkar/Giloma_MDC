{
 "cells": [
  {
   "cell_type": "code",
   "execution_count": 2,
   "metadata": {
    "execution": {
     "iopub.execute_input": "2024-12-27T09:57:42.373068Z",
     "iopub.status.busy": "2024-12-27T09:57:42.372720Z",
     "iopub.status.idle": "2024-12-27T09:57:42.378501Z",
     "shell.execute_reply": "2024-12-27T09:57:42.377679Z",
     "shell.execute_reply.started": "2024-12-27T09:57:42.373040Z"
    },
    "trusted": true
   },
   "outputs": [
    {
     "name": "stdout",
     "output_type": "stream",
     "text": [
      "Available GPUs: [PhysicalDevice(name='/physical_device:GPU:0', device_type='GPU')]\n"
     ]
    }
   ],
   "source": [
    "import tensorflow as tf\n",
    "from tensorflow.keras.preprocessing.image import ImageDataGenerator\n",
    "from tensorflow.keras.applications import EfficientNetV2M\n",
    "from tensorflow.keras.models import Sequential\n",
    "from tensorflow.keras.layers import Dense, GlobalAveragePooling2D\n",
    "from tensorflow.keras.metrics import Precision, Recall\n",
    "from tensorflow.keras.optimizers import Adam\n",
    "\n",
    "print(\"Available GPUs:\", tf.config.list_physical_devices(\"GPU\"))"
   ]
  },
  {
   "cell_type": "code",
   "execution_count": 3,
   "metadata": {
    "execution": {
     "iopub.execute_input": "2024-12-27T09:57:42.380601Z",
     "iopub.status.busy": "2024-12-27T09:57:42.380302Z",
     "iopub.status.idle": "2024-12-27T09:57:45.011433Z",
     "shell.execute_reply": "2024-12-27T09:57:45.010598Z",
     "shell.execute_reply.started": "2024-12-27T09:57:42.380572Z"
    },
    "trusted": true
   },
   "outputs": [
    {
     "name": "stdout",
     "output_type": "stream",
     "text": [
      "Found 1241 images belonging to 2 classes.\n",
      "Found 309 images belonging to 2 classes.\n"
     ]
    }
   ],
   "source": [
    "# Path to your dataset directories\n",
    "data_dir = \"/kaggle/input/giloma-mdc-dataset/training/training\"\n",
    "\n",
    "# Data generators\n",
    "train_datagen = ImageDataGenerator(rescale=1.0 / 255, validation_split=0.2)\n",
    "\n",
    "train_generator = train_datagen.flow_from_directory(\n",
    "    data_dir,\n",
    "    target_size=(224, 224),  # EfficientNetV2-M default input size\n",
    "    batch_size=32,\n",
    "    class_mode=\"binary\",\n",
    "    subset=\"training\",\n",
    ")\n",
    "\n",
    "validation_generator = train_datagen.flow_from_directory(\n",
    "    data_dir,\n",
    "    target_size=(224, 224),\n",
    "    batch_size=32,\n",
    "    class_mode=\"binary\",\n",
    "    subset=\"validation\",\n",
    ")"
   ]
  },
  {
   "cell_type": "code",
   "execution_count": 4,
   "metadata": {
    "execution": {
     "iopub.execute_input": "2024-12-27T09:57:45.012973Z",
     "iopub.status.busy": "2024-12-27T09:57:45.012656Z",
     "iopub.status.idle": "2024-12-27T09:57:50.380974Z",
     "shell.execute_reply": "2024-12-27T09:57:50.380278Z",
     "shell.execute_reply.started": "2024-12-27T09:57:45.012942Z"
    },
    "trusted": true
   },
   "outputs": [
    {
     "name": "stdout",
     "output_type": "stream",
     "text": [
      "Downloading data from https://storage.googleapis.com/tensorflow/keras-applications/efficientnet_v2/efficientnetv2-m_notop.h5\n",
      "\u001b[1m214201816/214201816\u001b[0m \u001b[32m━━━━━━━━━━━━━━━━━━━━\u001b[0m\u001b[37m\u001b[0m \u001b[1m1s\u001b[0m 0us/step\n"
     ]
    }
   ],
   "source": [
    "# Build the model\n",
    "base_model = EfficientNetV2M(\n",
    "    include_top=False, input_shape=(224, 224, 3), weights=\"imagenet\"\n",
    ")\n",
    "\n",
    "model = Sequential(\n",
    "    [base_model, GlobalAveragePooling2D(), Dense(1, activation=\"sigmoid\")]\n",
    ")\n",
    "\n",
    "# model.summary()"
   ]
  },
  {
   "cell_type": "code",
   "execution_count": 5,
   "metadata": {
    "execution": {
     "iopub.execute_input": "2024-12-27T09:57:50.382603Z",
     "iopub.status.busy": "2024-12-27T09:57:50.382389Z",
     "iopub.status.idle": "2024-12-27T09:57:50.404849Z",
     "shell.execute_reply": "2024-12-27T09:57:50.404089Z",
     "shell.execute_reply.started": "2024-12-27T09:57:50.382585Z"
    },
    "trusted": true
   },
   "outputs": [],
   "source": [
    "# Compile the model with F1 score as a custom metric\n",
    "def f1_score(y_true, y_pred):\n",
    "    y_pred = tf.cast(y_pred > 0.5, tf.float32)\n",
    "    tp = tf.reduce_sum(y_true * y_pred)\n",
    "    precision = tp / (tf.reduce_sum(y_pred) + 1e-7)\n",
    "    recall = tp / (tf.reduce_sum(y_true) + 1e-7)\n",
    "    return 2 * (precision * recall) / (precision + recall + 1e-7)\n",
    "\n",
    "\n",
    "model.compile(\n",
    "    optimizer=Adam(learning_rate=0.001),\n",
    "    loss=\"binary_crossentropy\",\n",
    "    metrics=[Precision(), Recall(), f1_score],\n",
    ")"
   ]
  },
  {
   "cell_type": "code",
   "execution_count": 6,
   "metadata": {
    "execution": {
     "iopub.execute_input": "2024-12-27T09:57:50.405986Z",
     "iopub.status.busy": "2024-12-27T09:57:50.405749Z",
     "iopub.status.idle": "2024-12-27T10:05:01.916267Z",
     "shell.execute_reply": "2024-12-27T10:05:01.915526Z",
     "shell.execute_reply.started": "2024-12-27T09:57:50.405966Z"
    },
    "trusted": true
   },
   "outputs": [
    {
     "name": "stdout",
     "output_type": "stream",
     "text": [
      "Epoch 1/10\n"
     ]
    },
    {
     "name": "stderr",
     "output_type": "stream",
     "text": [
      "/usr/local/lib/python3.10/dist-packages/keras/src/trainers/data_adapters/py_dataset_adapter.py:121: UserWarning: Your `PyDataset` class should call `super().__init__(**kwargs)` in its constructor. `**kwargs` can include `workers`, `use_multiprocessing`, `max_queue_size`. Do not pass these arguments to `fit()`, as they will be ignored.\n",
      "  self._warn_if_super_not_called()\n"
     ]
    },
    {
     "name": "stdout",
     "output_type": "stream",
     "text": [
      "\u001b[1m39/39\u001b[0m \u001b[32m━━━━━━━━━━━━━━━━━━━━\u001b[0m\u001b[37m\u001b[0m \u001b[1m16s\u001b[0m 394ms/step - f1_score: 13.7018 - loss: 0.0340 - precision: 0.9836 - recall: 0.9957 - val_f1_score: 0.0000e+00 - val_loss: 4.3028 - val_precision: 0.0000e+00 - val_recall: 0.0000e+00\n"
     ]
    }
   ],
   "source": [
    "from tensorflow.keras.callbacks import EarlyStopping\n",
    "\n",
    "# Add early stopping\n",
    "early_stopping = EarlyStopping(\n",
    "    monitor=\"val_loss\", patience=3, restore_best_weights=True\n",
    ")\n",
    "\n",
    "# Train the model\n",
    "history = model.fit(\n",
    "    train_generator,\n",
    "    validation_data=validation_generator,\n",
    "    callbacks=[early_stopping],\n",
    "    epochs=10,\n",
    ")\n",
    "\n",
    "# Save the model\n",
    "model.save(\"binary_classifier_efficientnetv2m.h5\")"
   ]
  }
 ],
 "metadata": {
  "kaggle": {
   "accelerator": "gpu",
   "dataSources": [
    {
     "datasetId": 6382360,
     "sourceId": 10310358,
     "sourceType": "datasetVersion"
    }
   ],
   "dockerImageVersionId": 30823,
   "isGpuEnabled": true,
   "isInternetEnabled": true,
   "language": "python",
   "sourceType": "notebook"
  },
  "kernelspec": {
   "display_name": "Python 3",
   "language": "python",
   "name": "python3"
  },
  "language_info": {
   "codemirror_mode": {
    "name": "ipython",
    "version": 3
   },
   "file_extension": ".py",
   "mimetype": "text/x-python",
   "name": "python",
   "nbconvert_exporter": "python",
   "pygments_lexer": "ipython3",
   "version": "3.10.12"
  }
 },
 "nbformat": 4,
 "nbformat_minor": 4
}
